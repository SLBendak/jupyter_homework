{
 "cells": [
  {
   "cell_type": "code",
   "execution_count": 1,
   "metadata": {},
   "outputs": [
    {
     "name": "stdout",
     "output_type": "stream",
     "text": [
      "10\n",
      "9\n",
      "8\n",
      "7\n",
      "6\n",
      "5\n",
      "4\n",
      "3\n",
      "2\n",
      "1\n",
      "Blast Off!\n"
     ]
    }
   ],
   "source": [
    "def countdown(num):\n",
    "    if num == 0:\n",
    "        print('Blast Off!')\n",
    "        return\n",
    "    print(num)\n",
    "    countdown(num - 1)\n",
    "    \n",
    "countdown(10)"
   ]
  },
  {
   "cell_type": "code",
   "execution_count": 9,
   "metadata": {},
   "outputs": [
    {
     "data": {
      "text/plain": [
       "['HHHH',\n",
       " 'THHH',\n",
       " 'HTHH',\n",
       " 'TTHH',\n",
       " 'HHTH',\n",
       " 'THTH',\n",
       " 'HTTH',\n",
       " 'TTTH',\n",
       " 'HHHT',\n",
       " 'THHT',\n",
       " 'HTHT',\n",
       " 'TTHT',\n",
       " 'HHTT',\n",
       " 'THTT',\n",
       " 'HTTT',\n",
       " 'TTTT']"
      ]
     },
     "execution_count": 9,
     "metadata": {},
     "output_type": "execute_result"
    }
   ],
   "source": [
    "def coin_flips(n):\n",
    "    if n <= 0:\n",
    "        return[]\n",
    "    if n == 1:\n",
    "        return ['H', 'T']\n",
    "    combos = coin_flips(n - 1)\n",
    "    return[x + 'H' for x in combos] + [x + 'T' for x in combos]\n",
    "    \n",
    "\n",
    "coin_flips(4)"
   ]
  },
  {
   "cell_type": "code",
   "execution_count": null,
   "metadata": {},
   "outputs": [],
   "source": []
  }
 ],
 "metadata": {
  "kernelspec": {
   "display_name": "Python 3",
   "language": "python",
   "name": "python3"
  },
  "language_info": {
   "codemirror_mode": {
    "name": "ipython",
    "version": 3
   },
   "file_extension": ".py",
   "mimetype": "text/x-python",
   "name": "python",
   "nbconvert_exporter": "python",
   "pygments_lexer": "ipython3",
   "version": "3.8.5"
  }
 },
 "nbformat": 4,
 "nbformat_minor": 4
}
